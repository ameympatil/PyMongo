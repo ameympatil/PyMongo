{
 "cells": [
  {
   "cell_type": "markdown",
   "metadata": {},
   "source": [
    "## MongoDb Aggregate and Group"
   ]
  },
  {
   "cell_type": "code",
   "execution_count": 1,
   "metadata": {},
   "outputs": [],
   "source": [
    "import pymongo\n",
    "client = pymongo.MongoClient('mongodb://127.0.0.1:27017/')\n",
    "\n",
    "mydb = client['Students']\n",
    "\n",
    "collections = mydb.studentscores"
   ]
  },
  {
   "cell_type": "code",
   "execution_count": 2,
   "metadata": {},
   "outputs": [
    {
     "data": {
      "text/plain": [
       "<pymongo.results.InsertManyResult at 0x17bd3ddee00>"
      ]
     },
     "execution_count": 2,
     "metadata": {},
     "output_type": "execute_result"
    }
   ],
   "source": [
    "data = [ \n",
    "    {\"user\":\"Krish\", \"subject\":\"Database\", \"score\":80}, \n",
    "    {\"user\":\"Amit\",  \"subject\":\"JavaScript\", \"score\":90}, \n",
    "    {\"user\":\"Amit\",  \"title\":\"Database\", \"score\":85}, \n",
    "    {\"user\":\"Krish\",  \"title\":\"JavaScript\", \"score\":75}, \n",
    "    {\"user\":\"Amit\",  \"title\":\"Data Science\", \"score\":60},\n",
    "    {\"user\":\"Krish\",  \"title\":\"Data Science\", \"score\":95}] \n",
    "\n",
    "collections.insert_many(data)"
   ]
  },
  {
   "cell_type": "code",
   "execution_count": 5,
   "metadata": {},
   "outputs": [
    {
     "name": "stdout",
     "output_type": "stream",
     "text": [
      "{'_id': 'Krish', 'Total Subject': 3}\n",
      "{'_id': 'Amit', 'Total Subject': 3}\n"
     ]
    }
   ],
   "source": [
    "# Total number of records\n",
    "agg_result = collections.aggregate(\n",
    "    [\n",
    "        {\n",
    "            '$group':{'_id':'$user',\n",
    "                  'Total Subject':{'$sum':1}}\n",
    "        }\n",
    "    ]\n",
    ")\n",
    "for i in agg_result:\n",
    "    print(i)"
   ]
  },
  {
   "cell_type": "code",
   "execution_count": 16,
   "metadata": {},
   "outputs": [
    {
     "name": "stdout",
     "output_type": "stream",
     "text": [
      "{'_id': 'Amit', 'Total Marks': 235}\n",
      "{'_id': 'Krish', 'Total Marks': 250}\n"
     ]
    }
   ],
   "source": [
    "#Total score based on user\n",
    "agg_scores = collections.aggregate(\n",
    "    [\n",
    "        {'$group':{'_id':'$user',\n",
    "        'Total Marks':{'$sum':'$score'}}}\n",
    "    ]\n",
    ")\n",
    "    \n",
    "    \n",
    "for i in agg_scores:\n",
    "    print(i)"
   ]
  },
  {
   "cell_type": "code",
   "execution_count": 17,
   "metadata": {},
   "outputs": [
    {
     "name": "stdout",
     "output_type": "stream",
     "text": [
      "{'_id': 'Krish', 'AverageScore': 83.33333333333333}\n",
      "{'_id': 'Amit', 'AverageScore': 78.33333333333333}\n"
     ]
    }
   ],
   "source": [
    "#Average score based on user\n",
    "agg_result = collections.aggregate(\n",
    "    [\n",
    "        {\n",
    "            '$group':{\n",
    "                '_id':'$user',\n",
    "                'AverageScore':{'$avg':'$score'}\n",
    "            }\n",
    "        }\n",
    "    ]\n",
    ")\n",
    "for i in agg_result:\n",
    "    print(i)"
   ]
  },
  {
   "cell_type": "code",
   "execution_count": 18,
   "metadata": {},
   "outputs": [],
   "source": [
    "import datetime"
   ]
  },
  {
   "cell_type": "code",
   "execution_count": 20,
   "metadata": {},
   "outputs": [],
   "source": [
    "### Create a new collection\n",
    "data=[{ \"_id\" : 1, \"item\" : \"abc\", \"price\" : 10, \"quantity\" : 2, \"date\" : datetime.datetime.utcnow()},\n",
    "{ \"_id\" : 2, \"item\" : \"jkl\", \"price\" : 20, \"quantity\" : 1, \"date\" : datetime.datetime.utcnow() },\n",
    "{ \"_id\" : 3, \"item\" : \"xyz\", \"price\" : 5, \"quantity\" : 5, \"date\" : datetime.datetime.utcnow() },\n",
    "{ \"_id\" : 4, \"item\" : \"abc\", \"price\" : 10, \"quantity\" : 10, \"date\" : datetime.datetime.utcnow() },\n",
    "{ \"_id\" : 5, \"item\" : \"xyz\", \"price\" : 5, \"quantity\" : 10, \"date\" :datetime.datetime.utcnow() }]"
   ]
  },
  {
   "cell_type": "code",
   "execution_count": 21,
   "metadata": {},
   "outputs": [
    {
     "data": {
      "text/plain": [
       "[{'_id': 1,\n",
       "  'item': 'abc',\n",
       "  'price': 10,\n",
       "  'quantity': 2,\n",
       "  'date': datetime.datetime(2022, 1, 5, 15, 46, 45, 424868)},\n",
       " {'_id': 2,\n",
       "  'item': 'jkl',\n",
       "  'price': 20,\n",
       "  'quantity': 1,\n",
       "  'date': datetime.datetime(2022, 1, 5, 15, 46, 45, 424868)},\n",
       " {'_id': 3,\n",
       "  'item': 'xyz',\n",
       "  'price': 5,\n",
       "  'quantity': 5,\n",
       "  'date': datetime.datetime(2022, 1, 5, 15, 46, 45, 424868)},\n",
       " {'_id': 4,\n",
       "  'item': 'abc',\n",
       "  'price': 10,\n",
       "  'quantity': 10,\n",
       "  'date': datetime.datetime(2022, 1, 5, 15, 46, 45, 424868)},\n",
       " {'_id': 5,\n",
       "  'item': 'xyz',\n",
       "  'price': 5,\n",
       "  'quantity': 10,\n",
       "  'date': datetime.datetime(2022, 1, 5, 15, 46, 45, 424868)}]"
      ]
     },
     "execution_count": 21,
     "metadata": {},
     "output_type": "execute_result"
    }
   ],
   "source": [
    "data"
   ]
  },
  {
   "cell_type": "code",
   "execution_count": 22,
   "metadata": {},
   "outputs": [],
   "source": [
    "mycollection = mydb['stores']"
   ]
  },
  {
   "cell_type": "code",
   "execution_count": 23,
   "metadata": {},
   "outputs": [
    {
     "data": {
      "text/plain": [
       "<pymongo.results.InsertManyResult at 0x17bd3eee080>"
      ]
     },
     "execution_count": 23,
     "metadata": {},
     "output_type": "execute_result"
    }
   ],
   "source": [
    "mycollection.insert_many(data)"
   ]
  },
  {
   "cell_type": "code",
   "execution_count": 26,
   "metadata": {},
   "outputs": [
    {
     "name": "stdout",
     "output_type": "stream",
     "text": [
      "{'_id': 'abc', 'AvgPrice': 60.0, 'AvgQuantity': 6.0}\n",
      "{'_id': 'jkl', 'AvgPrice': 20.0, 'AvgQuantity': 1.0}\n",
      "{'_id': 'xyz', 'AvgPrice': 37.5, 'AvgQuantity': 7.5}\n"
     ]
    }
   ],
   "source": [
    "# Average price and quantity\n",
    "res = mycollection.aggregate(\n",
    "    [\n",
    "        {\n",
    "            '$group':{\n",
    "                '_id':'$item',\n",
    "                'AvgPrice':{'$avg':{'$multiply':['$price','$quantity']}},\n",
    "                'AvgQuantity':{'$avg':'$quantity'}\n",
    "            }\n",
    "        }\n",
    "    ]\n",
    ")\n",
    "for i in res:\n",
    "    print(i)"
   ]
  },
  {
   "cell_type": "code",
   "execution_count": 27,
   "metadata": {},
   "outputs": [],
   "source": [
    "## project operator\n",
    "data=[{\n",
    "  \"_id\" : 1,\n",
    "  \"title\": \"abc123\",\n",
    "  \"isbn\": \"0001122223334\",\n",
    "  \"author\": { \"last\": \"zzz\", \"first\": \"aaa\" },\n",
    "  \"copies\": 5\n",
    "},\n",
    "{\n",
    "  \"_id\" : 2,\n",
    "  \"title\": \"Baked Goods\",\n",
    "  \"isbn\": \"9999999999999\",\n",
    "  \"author\": { \"last\": \"xyz\", \"first\": \"abc\", \"middle\": \"\" },\n",
    "  \"copies\": 2\n",
    "}\n",
    "]"
   ]
  },
  {
   "cell_type": "code",
   "execution_count": 29,
   "metadata": {},
   "outputs": [],
   "source": [
    "collection = mydb['Books']"
   ]
  },
  {
   "cell_type": "code",
   "execution_count": 30,
   "metadata": {},
   "outputs": [
    {
     "data": {
      "text/plain": [
       "<pymongo.results.InsertManyResult at 0x17bd3f04480>"
      ]
     },
     "execution_count": 30,
     "metadata": {},
     "output_type": "execute_result"
    }
   ],
   "source": [
    "collection.insert_many(data)"
   ]
  },
  {
   "cell_type": "code",
   "execution_count": 31,
   "metadata": {},
   "outputs": [
    {
     "data": {
      "text/plain": [
       "[{'_id': 1,\n",
       "  'title': 'abc123',\n",
       "  'isbn': '0001122223334',\n",
       "  'author': {'last': 'zzz', 'first': 'aaa'},\n",
       "  'copies': 5},\n",
       " {'_id': 2,\n",
       "  'title': 'Baked Goods',\n",
       "  'isbn': '9999999999999',\n",
       "  'author': {'last': 'xyz', 'first': 'abc', 'middle': ''},\n",
       "  'copies': 2}]"
      ]
     },
     "execution_count": 31,
     "metadata": {},
     "output_type": "execute_result"
    }
   ],
   "source": [
    "data"
   ]
  },
  {
   "cell_type": "code",
   "execution_count": 33,
   "metadata": {},
   "outputs": [
    {
     "name": "stdout",
     "output_type": "stream",
     "text": [
      "{'copies': 5}\n",
      "{'copies': 2}\n"
     ]
    }
   ],
   "source": [
    "res = collection.aggregate(\n",
    "    [\n",
    "        {\n",
    "            '$project':{'_id':0,'copies':1}\n",
    "        }\n",
    "    ]\n",
    ")\n",
    "\n",
    "for i in res:\n",
    "    print(i)"
   ]
  },
  {
   "cell_type": "code",
   "execution_count": null,
   "metadata": {},
   "outputs": [],
   "source": []
  }
 ],
 "metadata": {
  "interpreter": {
   "hash": "f96f7f16b2c15d04c3b5269d08777db75250f8ed031a6b52b7103f16d213fd82"
  },
  "kernelspec": {
   "display_name": "Python 3.8.8 64-bit ('base': conda)",
   "language": "python",
   "name": "python3"
  },
  "language_info": {
   "codemirror_mode": {
    "name": "ipython",
    "version": 3
   },
   "file_extension": ".py",
   "mimetype": "text/x-python",
   "name": "python",
   "nbconvert_exporter": "python",
   "pygments_lexer": "ipython3",
   "version": "3.8.8"
  },
  "orig_nbformat": 4
 },
 "nbformat": 4,
 "nbformat_minor": 2
}
