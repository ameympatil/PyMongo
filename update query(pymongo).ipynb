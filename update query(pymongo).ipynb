{
 "cells": [
  {
   "cell_type": "markdown",
   "metadata": {},
   "source": [
    "## Mongo Db with Python- Update Json Documents"
   ]
  },
  {
   "cell_type": "code",
   "execution_count": 1,
   "metadata": {},
   "outputs": [],
   "source": [
    "import pymongo\n",
    "client = pymongo.MongoClient('mongodb://127.0.0.1:27017/')\n",
    "\n",
    "mydb = client['Employee']\n",
    "inventory = mydb.inventory"
   ]
  },
  {
   "cell_type": "code",
   "execution_count": 2,
   "metadata": {},
   "outputs": [
    {
     "data": {
      "text/plain": [
       "<pymongo.results.InsertManyResult at 0x2757e690e00>"
      ]
     },
     "execution_count": 2,
     "metadata": {},
     "output_type": "execute_result"
    }
   ],
   "source": [
    "inventory.insert_many([\n",
    "    {\"item\": \"canvas\",\n",
    "     \"qty\": 100,\n",
    "     \"size\": {\"h\": 28, \"w\": 35.5, \"uom\": \"cm\"},\n",
    "     \"status\": \"A\"},\n",
    "    {\"item\": \"journal\",\n",
    "     \"qty\": 25,\n",
    "     \"size\": {\"h\": 14, \"w\": 21, \"uom\": \"cm\"},\n",
    "     \"status\": \"A\"},\n",
    "    {\"item\": \"mat\",\n",
    "     \"qty\": 85,\n",
    "     \"size\": {\"h\": 27.9, \"w\": 35.5, \"uom\": \"cm\"},\n",
    "     \"status\": \"A\"},\n",
    "    {\"item\": \"mousepad\",\n",
    "     \"qty\": 25,\n",
    "     \"size\": {\"h\": 19, \"w\": 22.85, \"uom\": \"cm\"},\n",
    "     \"status\": \"P\"},\n",
    "    {\"item\": \"notebook\",\n",
    "     \"qty\": 50,\n",
    "     \"size\": {\"h\": 8.5, \"w\": 11, \"uom\": \"in\"},\n",
    "     \"status\": \"P\"},\n",
    "    {\"item\": \"paper\",\n",
    "     \"qty\": 100,\n",
    "     \"size\": {\"h\": 8.5, \"w\": 11, \"uom\": \"in\"},\n",
    "     \"status\": \"D\"},\n",
    "    {\"item\": \"planner\",\n",
    "     \"qty\": 75,\n",
    "     \"size\": {\"h\": 22.85, \"w\": 30, \"uom\": \"cm\"},\n",
    "     \"status\": \"D\"},\n",
    "    {\"item\": \"postcard\",\n",
    "     \"qty\": 45,\n",
    "     \"size\": {\"h\": 10, \"w\": 15.25, \"uom\": \"cm\"},\n",
    "     \"status\": \"A\"},\n",
    "    {\"item\": \"sketchbook\",\n",
    "     \"qty\": 80,\n",
    "     \"size\": {\"h\": 14, \"w\": 21, \"uom\": \"cm\"},\n",
    "     \"status\": \"A\"},\n",
    "    {\"item\": \"sketch pad\",\n",
    "     \"qty\": 95,\n",
    "     \"size\": {\"h\": 22.85, \"w\": 30.5, \"uom\": \"cm\"},\n",
    "     \"status\": \"A\"}])"
   ]
  },
  {
   "cell_type": "code",
   "execution_count": 3,
   "metadata": {},
   "outputs": [
    {
     "data": {
      "text/plain": [
       "<pymongo.results.UpdateResult at 0x2757f250ec0>"
      ]
     },
     "execution_count": 3,
     "metadata": {},
     "output_type": "execute_result"
    }
   ],
   "source": [
    "inventory.update_one(\n",
    "    {'item':'sketch pad'},{'$set':{'size.uom':'m','status':'P'},\"$currentDate\":{\"lastModified\":True}}\n",
    ")"
   ]
  },
  {
   "cell_type": "code",
   "execution_count": 4,
   "metadata": {},
   "outputs": [
    {
     "data": {
      "text/plain": [
       "<pymongo.results.UpdateResult at 0x2757e530980>"
      ]
     },
     "execution_count": 4,
     "metadata": {},
     "output_type": "execute_result"
    }
   ],
   "source": [
    "inventory.update_many(\n",
    "    {'qty':{'$lt':50}},\n",
    "    {'$set':{'size.uom':'in','status':'p'},\n",
    "     '$currentDate':{'lastModified':True}}\n",
    ")"
   ]
  },
  {
   "cell_type": "code",
   "execution_count": 5,
   "metadata": {},
   "outputs": [
    {
     "data": {
      "text/plain": [
       "<pymongo.results.UpdateResult at 0x2757f25a800>"
      ]
     },
     "execution_count": 5,
     "metadata": {},
     "output_type": "execute_result"
    }
   ],
   "source": [
    "## replaceOne\n",
    "inventory.replace_one(\n",
    "    {'item':'paper'},\n",
    "    {'item':'paper',\n",
    "     'instock':[\n",
    "         {'warehouse':'A','qty':60},\n",
    "         {'warehouse':'B','qty':40}\n",
    "     ]}\n",
    ")"
   ]
  },
  {
   "cell_type": "code",
   "execution_count": null,
   "metadata": {},
   "outputs": [],
   "source": []
  }
 ],
 "metadata": {
  "interpreter": {
   "hash": "f96f7f16b2c15d04c3b5269d08777db75250f8ed031a6b52b7103f16d213fd82"
  },
  "kernelspec": {
   "display_name": "Python 3.8.8 64-bit ('base': conda)",
   "language": "python",
   "name": "python3"
  },
  "language_info": {
   "codemirror_mode": {
    "name": "ipython",
    "version": 3
   },
   "file_extension": ".py",
   "mimetype": "text/x-python",
   "name": "python",
   "nbconvert_exporter": "python",
   "pygments_lexer": "ipython3",
   "version": "3.8.8"
  },
  "orig_nbformat": 4
 },
 "nbformat": 4,
 "nbformat_minor": 2
}
