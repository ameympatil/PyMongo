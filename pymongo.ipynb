{
 "cells": [
  {
   "cell_type": "markdown",
   "metadata": {},
   "source": [
    "## Mongo DB with Python-Json docs"
   ]
  },
  {
   "cell_type": "code",
   "execution_count": 1,
   "metadata": {},
   "outputs": [],
   "source": [
    "import pymongo\n",
    "\n",
    "client=pymongo.MongoClient('mongodb://127.0.0.1:27017/')\n",
    "\n",
    "mydb = client['Employee']\n",
    "\n",
    "empinfo = mydb.employeeinformation"
   ]
  },
  {
   "cell_type": "code",
   "execution_count": 3,
   "metadata": {},
   "outputs": [
    {
     "data": {
      "text/plain": [
       "<pymongo.results.InsertOneResult at 0x1d07e9434c0>"
      ]
     },
     "execution_count": 3,
     "metadata": {},
     "output_type": "execute_result"
    }
   ],
   "source": [
    "record = {\n",
    "    'firstname':'Amey',\n",
    "    'lastname':'Patil',\n",
    "    'department':'Analytics',\n",
    "    'qualification':'MSc',\n",
    "    'age':21\n",
    "}\n",
    "empinfo.insert_one(record)"
   ]
  },
  {
   "cell_type": "code",
   "execution_count": 6,
   "metadata": {},
   "outputs": [
    {
     "data": {
      "text/plain": [
       "<pymongo.results.InsertManyResult at 0x1d07e93fe80>"
      ]
     },
     "execution_count": 6,
     "metadata": {},
     "output_type": "execute_result"
    }
   ],
   "source": [
    "records = [\n",
    "    {\n",
    "    'firstname':'Amey',\n",
    "    'lastname':'Patil',\n",
    "    'department':'Analytics',\n",
    "    'qualification':'MSc',\n",
    "    'age':21\n",
    "    },\n",
    "    {\n",
    "    'firstname':'Amey1',\n",
    "    'lastname':'Patil1',\n",
    "    'department':'Analytics1',\n",
    "    'qualification':'MSc1',\n",
    "    'age':22\n",
    "    },\n",
    "    {\n",
    "    'firstname':'Amey2',\n",
    "    'lastname':'Patil2',\n",
    "    'department':'Analytics2',\n",
    "    'qualification':'MSc2',\n",
    "    'age':23\n",
    "    }\n",
    "]\n",
    "empinfo.insert_many(records)"
   ]
  },
  {
   "cell_type": "code",
   "execution_count": 7,
   "metadata": {},
   "outputs": [
    {
     "data": {
      "text/plain": [
       "{'_id': ObjectId('61d51c9e390251ee909abd36'),\n",
       " 'firstname': 'Amey',\n",
       " 'lastname': 'Patil',\n",
       " 'department': 'Analytics',\n",
       " 'qualification': 'MSc',\n",
       " 'age': 21}"
      ]
     },
     "execution_count": 7,
     "metadata": {},
     "output_type": "execute_result"
    }
   ],
   "source": [
    "## Simple way\n",
    "empinfo.find_one()"
   ]
  },
  {
   "cell_type": "code",
   "execution_count": 29,
   "metadata": {},
   "outputs": [
    {
     "name": "stdout",
     "output_type": "stream",
     "text": [
      "{'_id': ObjectId('61d51c9e390251ee909abd36'), 'firstname': 'Amey', 'lastname': 'Patil', 'department': 'Analytics', 'qualification': 'MSc', 'age': 21}\n",
      "{'_id': ObjectId('61d51c9e390251ee909abd37'), 'firstname': 'Amey1', 'lastname': 'Patil1', 'department': 'Analytics1', 'qualification': 'MSc1', 'age': 22}\n",
      "{'_id': ObjectId('61d51c9e390251ee909abd38'), 'firstname': 'Amey2', 'lastname': 'Patil2', 'department': 'Analytics2', 'qualification': 'MSc2', 'age': 23}\n"
     ]
    },
    {
     "data": {
      "text/plain": [
       "[None, None, None]"
      ]
     },
     "execution_count": 29,
     "metadata": {},
     "output_type": "execute_result"
    }
   ],
   "source": [
    "## select * from collection\n",
    "[print(record) for record in empinfo.find()]"
   ]
  },
  {
   "cell_type": "code",
   "execution_count": 33,
   "metadata": {},
   "outputs": [
    {
     "name": "stdout",
     "output_type": "stream",
     "text": [
      "{'_id': ObjectId('61d51c9e390251ee909abd36'), 'firstname': 'Amey', 'lastname': 'Patil', 'department': 'Analytics', 'qualification': 'MSc', 'age': 21}\n"
     ]
    }
   ],
   "source": [
    "## Query jason docs based on equality\n",
    "# select * from emplyeeinfo where firtname='Amey'\n",
    "for record in empinfo.find({\"firstname\":\"Amey\"}):\n",
    "    print(record)"
   ]
  },
  {
   "cell_type": "code",
   "execution_count": 37,
   "metadata": {},
   "outputs": [
    {
     "name": "stdout",
     "output_type": "stream",
     "text": [
      "{'_id': ObjectId('61d51c9e390251ee909abd36'), 'firstname': 'Amey', 'lastname': 'Patil', 'department': 'Analytics', 'qualification': 'MSc', 'age': 21}\n"
     ]
    }
   ],
   "source": [
    "## Query docs using querry operators ($in,$gt,$lt)\n",
    "for record in empinfo.find({\"qualification\":{'$in':['MSc']}}):\n",
    "    print(record)"
   ]
  },
  {
   "cell_type": "code",
   "execution_count": 42,
   "metadata": {},
   "outputs": [
    {
     "name": "stdout",
     "output_type": "stream",
     "text": [
      "{'firstname': 'Amey'}\n",
      "{'firstname': 'Amey1'}\n"
     ]
    }
   ],
   "source": [
    "for record in empinfo.find({'age':{'$lt':23}},{'_id':0,'firstname':1}):\n",
    "    print(record)"
   ]
  },
  {
   "cell_type": "code",
   "execution_count": 43,
   "metadata": {},
   "outputs": [],
   "source": [
    "inventory = mydb.inventory"
   ]
  },
  {
   "cell_type": "code",
   "execution_count": null,
   "metadata": {},
   "outputs": [],
   "source": []
  }
 ],
 "metadata": {
  "interpreter": {
   "hash": "f96f7f16b2c15d04c3b5269d08777db75250f8ed031a6b52b7103f16d213fd82"
  },
  "kernelspec": {
   "display_name": "Python 3.8.8 64-bit ('base': conda)",
   "language": "python",
   "name": "python3"
  },
  "language_info": {
   "codemirror_mode": {
    "name": "ipython",
    "version": 3
   },
   "file_extension": ".py",
   "mimetype": "text/x-python",
   "name": "python",
   "nbconvert_exporter": "python",
   "pygments_lexer": "ipython3",
   "version": "3.8.8"
  },
  "orig_nbformat": 4
 },
 "nbformat": 4,
 "nbformat_minor": 2
}
